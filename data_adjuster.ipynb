{
 "cells": [
  {
   "cell_type": "code",
   "execution_count": 1,
   "metadata": {},
   "outputs": [],
   "source": [
    "import pandas as pd\n",
    "import datetime\n",
    "from dateutil.relativedelta import relativedelta"
   ]
  },
  {
   "cell_type": "markdown",
   "metadata": {},
   "source": [
    "Load all data into memory; loading both the separate weekly and daily files, and the continuing weekly and daily file."
   ]
  },
  {
   "cell_type": "code",
   "execution_count": 2,
   "metadata": {},
   "outputs": [],
   "source": [
    "start_date = \"2004-01-01\"\n",
    "end_date = \"2020-06-03\"\n",
    "keyword = \"debt\""
   ]
  },
  {
   "cell_type": "code",
   "execution_count": 3,
   "metadata": {},
   "outputs": [],
   "source": [
    "monthly = pd.read_csv(f\"data/{keyword}/{start_date}_{end_date}/unadjusted/monthly_{keyword}.csv\")"
   ]
  },
  {
   "cell_type": "code",
   "execution_count": 4,
   "metadata": {},
   "outputs": [],
   "source": [
    "i = 0\n",
    "while True:\n",
    "    try:\n",
    "        if i == 0:\n",
    "            weekly = pd.read_csv(\n",
    "                f\"data/{keyword}/{start_date}_{end_date}/unadjusted/weekly/{i}_weekly_{keyword}.csv\")\n",
    "        else:\n",
    "            temp = pd.read_csv(\n",
    "                f\"data/{keyword}/{start_date}_{end_date}/unadjusted/weekly/{i}_weekly_{keyword}.csv\")\n",
    "            temp = temp.replace(0, 1)\n",
    "            weekly = weekly.append(temp, ignore_index=True)\n",
    "    except:\n",
    "        break\n",
    "\n",
    "    i += 1"
   ]
  },
  {
   "cell_type": "code",
   "execution_count": 5,
   "metadata": {},
   "outputs": [],
   "source": [
    "i = 0\n",
    "while True:\n",
    "    try:\n",
    "        if i == 0:\n",
    "            daily = pd.read_csv(\n",
    "                f\"data/{keyword}/{start_date}_{end_date}/unadjusted/daily/{i}_daily_{keyword}.csv\")\n",
    "        else:\n",
    "            temp = pd.read_csv(\n",
    "                f\"data/{keyword}/{start_date}_{end_date}/unadjusted/daily/{i}_daily_{keyword}.csv\")\n",
    "            temp = temp.replace(0, 1)\n",
    "            daily = daily.append(temp, ignore_index=True)\n",
    "    except:\n",
    "        break\n",
    "\n",
    "    i += 1"
   ]
  },
  {
   "cell_type": "code",
   "execution_count": 6,
   "metadata": {},
   "outputs": [],
   "source": [
    "monthly = monthly.replace(0, 1)\n",
    "weekly = weekly.replace(0, 1)\n",
    "daily = daily.replace(0, 1)"
   ]
  },
  {
   "cell_type": "markdown",
   "metadata": {},
   "source": [
    "## Weekly"
   ]
  },
  {
   "cell_type": "markdown",
   "metadata": {},
   "source": [
    "Computing percentage change for each relative frequency."
   ]
  },
  {
   "cell_type": "code",
   "execution_count": 7,
   "metadata": {},
   "outputs": [],
   "source": [
    "weekly[\"percentage_change\"] = 1 + weekly[\"relative_frequency\"].pct_change()"
   ]
  },
  {
   "cell_type": "markdown",
   "metadata": {},
   "source": [
    "Get the adjusted values for each percentage change."
   ]
  },
  {
   "cell_type": "code",
   "execution_count": 8,
   "metadata": {},
   "outputs": [],
   "source": [
    "weekly[\"adjusted\"] = \"\""
   ]
  },
  {
   "cell_type": "code",
   "execution_count": 9,
   "metadata": {},
   "outputs": [],
   "source": [
    "i = 0  \n",
    "while True:\n",
    "    try:\n",
    "        weekly.loc[i * 261, \"adjusted\"] = monthly.loc[i * 60, \"relative_frequency\"]\n",
    "        i += 1\n",
    "    except:\n",
    "        break"
   ]
  },
  {
   "cell_type": "code",
   "execution_count": 10,
   "metadata": {},
   "outputs": [],
   "source": [
    "for i in range(len(weekly)):\n",
    "    if weekly[\"adjusted\"][i] == \"\":\n",
    "        prc = float(weekly[\"percentage_change\"][i])\n",
    "        prev_value = float(weekly[\"adjusted\"][i-1])\n",
    "        new_value = prev_value * prc\n",
    "        weekly.loc[i, \"adjusted\"] = new_value"
   ]
  },
  {
   "cell_type": "markdown",
   "metadata": {},
   "source": [
    "## Daily"
   ]
  },
  {
   "cell_type": "markdown",
   "metadata": {},
   "source": [
    "Computing relative change for each relative frequency."
   ]
  },
  {
   "cell_type": "code",
   "execution_count": 11,
   "metadata": {},
   "outputs": [],
   "source": [
    "daily[\"percentage_change\"] = 1 + daily[\"relative_frequency\"].pct_change()"
   ]
  },
  {
   "cell_type": "code",
   "execution_count": 12,
   "metadata": {},
   "outputs": [],
   "source": [
    "daily[\"adjusted\"] = \"\""
   ]
  },
  {
   "cell_type": "markdown",
   "metadata": {},
   "source": [
    "Every six months a data point from the weekly data has to be added to daily."
   ]
  },
  {
   "cell_type": "code",
   "execution_count": 13,
   "metadata": {
    "scrolled": false
   },
   "outputs": [],
   "source": [
    "start_dt = datetime.date.fromisoformat(start_date)\n",
    "end = datetime.date.fromisoformat(end_date)"
   ]
  },
  {
   "cell_type": "code",
   "execution_count": 14,
   "metadata": {},
   "outputs": [],
   "source": [
    "start_dt = datetime.date.fromisoformat(start_date)\n",
    "end_dt = start_dt + relativedelta(months=+6)\n",
    "\n",
    "i = 0\n",
    "while True:\n",
    "    imported = False\n",
    "    while True:\n",
    "        if i >= len(daily):\n",
    "            break\n",
    "        \n",
    "        if not imported:\n",
    "            try:\n",
    "                daily.loc[i, \"adjusted\"] = weekly[\"adjusted\"].where(weekly[\"date\"] == str(start_dt)).dropna().values[0]\n",
    "                imported = True\n",
    "            except:\n",
    "                pass\n",
    "        else:\n",
    "            prc = float(daily[\"percentage_change\"][i])\n",
    "            prev_value = float(daily[\"adjusted\"][i-1])\n",
    "            new_value = prev_value * prc\n",
    "            daily.loc[i, \"adjusted\"] = new_value\n",
    "        \n",
    "        start_dt += relativedelta(days=+1)\n",
    "        i += 1\n",
    "        \n",
    "        if start_dt >= end_dt:\n",
    "            break\n",
    "    \n",
    "    start_dt = end_dt\n",
    "    end_dt += relativedelta(months=+6)\n",
    "    \n",
    "    if start_dt > end:\n",
    "        break"
   ]
  },
  {
   "cell_type": "markdown",
   "metadata": {},
   "source": [
    "Also adjust all previous values."
   ]
  },
  {
   "cell_type": "code",
   "execution_count": 15,
   "metadata": {},
   "outputs": [],
   "source": [
    "i = 0\n",
    "while True:\n",
    "    if i >= len(daily) - 1:\n",
    "        break\n",
    "    \n",
    "    if daily.loc[i, \"adjusted\"] == \"\":\n",
    "        j = 0\n",
    "        while True:\n",
    "            if daily.loc[i+j, \"adjusted\"] == \"\":\n",
    "                j += 1\n",
    "            else:\n",
    "                prc = float(daily[\"percentage_change\"][i+j])\n",
    "                new_value = float(daily[\"adjusted\"][i+j])\n",
    "                prev_value = int(new_value / prc)\n",
    "                daily.loc[i+j-1, \"adjusted\"] = prev_value\n",
    "                \n",
    "                j -= 1\n",
    "            \n",
    "            if j <= 0:\n",
    "                break\n",
    "\n",
    "    i += 1"
   ]
  },
  {
   "cell_type": "code",
   "execution_count": 16,
   "metadata": {},
   "outputs": [],
   "source": [
    "daily = daily.drop([\"relative_frequency\", \"percentage_change\"], axis=1)"
   ]
  },
  {
   "cell_type": "code",
   "execution_count": 17,
   "metadata": {},
   "outputs": [],
   "source": [
    "daily[\"adjusted\"] = daily[\"adjusted\"].astype(int)"
   ]
  },
  {
   "cell_type": "code",
   "execution_count": 18,
   "metadata": {},
   "outputs": [],
   "source": [
    "daily.to_csv(f\"data/{keyword}/{start_date}_{end_date}/{keyword}_adjusted.csv\", index=False)"
   ]
  },
  {
   "cell_type": "code",
   "execution_count": 19,
   "metadata": {},
   "outputs": [
    {
     "data": {
      "text/plain": [
       "<matplotlib.axes._subplots.AxesSubplot at 0x7f9e7c3496a0>"
      ]
     },
     "execution_count": 19,
     "metadata": {},
     "output_type": "execute_result"
    },
    {
     "data": {
      "image/png": "[encoded data removed]",
      "text/plain": [
       "<Figure size 432x288 with 1 Axes>"
      ]
     },
     "metadata": {
      "needs_background": "light"
     },
     "output_type": "display_data"
    }
   ],
   "source": [
    "daily.plot(\"date\")"
   ]
  },
  {
   "cell_type": "code",
   "execution_count": 20,
   "metadata": {},
   "outputs": [
    {
     "data": {
      "text/html": [
       "<div>\n",
       "<style scoped>\n",
       "    .dataframe tbody tr th:only-of-type {\n",
       "        vertical-align: middle;\n",
       "    }\n",
       "\n",
       "    .dataframe tbody tr th {\n",
       "        vertical-align: top;\n",
       "    }\n",
       "\n",
       "    .dataframe thead th {\n",
       "        text-align: right;\n",
       "    }\n",
       "</style>\n",
       "<table border=\"1\" class=\"dataframe\">\n",
       "  <thead>\n",
       "    <tr style=\"text-align: right;\">\n",
       "      <th></th>\n",
       "      <th>date</th>\n",
       "      <th>adjusted</th>\n",
       "    </tr>\n",
       "  </thead>\n",
       "  <tbody>\n",
       "    <tr>\n",
       "      <th>0</th>\n",
       "      <td>2004-01-01</td>\n",
       "      <td>45</td>\n",
       "    </tr>\n",
       "    <tr>\n",
       "      <th>1</th>\n",
       "      <td>2004-01-02</td>\n",
       "      <td>80</td>\n",
       "    </tr>\n",
       "    <tr>\n",
       "      <th>2</th>\n",
       "      <td>2004-01-03</td>\n",
       "      <td>54</td>\n",
       "    </tr>\n",
       "    <tr>\n",
       "      <th>3</th>\n",
       "      <td>2004-01-04</td>\n",
       "      <td>42</td>\n",
       "    </tr>\n",
       "    <tr>\n",
       "      <th>4</th>\n",
       "      <td>2004-01-05</td>\n",
       "      <td>85</td>\n",
       "    </tr>\n",
       "    <tr>\n",
       "      <th>...</th>\n",
       "      <td>...</td>\n",
       "      <td>...</td>\n",
       "    </tr>\n",
       "    <tr>\n",
       "      <th>5991</th>\n",
       "      <td>2020-05-27</td>\n",
       "      <td>47</td>\n",
       "    </tr>\n",
       "    <tr>\n",
       "      <th>5992</th>\n",
       "      <td>2020-05-28</td>\n",
       "      <td>49</td>\n",
       "    </tr>\n",
       "    <tr>\n",
       "      <th>5993</th>\n",
       "      <td>2020-05-29</td>\n",
       "      <td>43</td>\n",
       "    </tr>\n",
       "    <tr>\n",
       "      <th>5994</th>\n",
       "      <td>2020-05-30</td>\n",
       "      <td>36</td>\n",
       "    </tr>\n",
       "    <tr>\n",
       "      <th>5995</th>\n",
       "      <td>2020-05-31</td>\n",
       "      <td>32</td>\n",
       "    </tr>\n",
       "  </tbody>\n",
       "</table>\n",
       "<p>5996 rows × 2 columns</p>\n",
       "</div>"
      ],
      "text/plain": [
       "            date  adjusted\n",
       "0     2004-01-01        45\n",
       "1     2004-01-02        80\n",
       "2     2004-01-03        54\n",
       "3     2004-01-04        42\n",
       "4     2004-01-05        85\n",
       "...          ...       ...\n",
       "5991  2020-05-27        47\n",
       "5992  2020-05-28        49\n",
       "5993  2020-05-29        43\n",
       "5994  2020-05-30        36\n",
       "5995  2020-05-31        32\n",
       "\n",
       "[5996 rows x 2 columns]"
      ]
     },
     "execution_count": 20,
     "metadata": {},
     "output_type": "execute_result"
    }
   ],
   "source": [
    "daily"
   ]
  },
  {
   "cell_type": "code",
   "execution_count": null,
   "metadata": {},
   "outputs": [],
   "source": []
  }
 ],
 "metadata": {
  "kernelspec": {
   "display_name": "Python 3.8.3 64-bit",
   "language": "python",
   "name": "python38364bit748edce4d40a4eaeae1c5452b72d767c"
  },
  "language_info": {
   "codemirror_mode": {
    "name": "ipython",
    "version": 3
   },
   "file_extension": ".py",
   "mimetype": "text/x-python",
   "name": "python",
   "nbconvert_exporter": "python",
   "pygments_lexer": "ipython3",
   "version": "3.8.3"
  }
 },
 "nbformat": 4,
 "nbformat_minor": 4
}
