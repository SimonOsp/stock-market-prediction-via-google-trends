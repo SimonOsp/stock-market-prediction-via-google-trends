{
 "cells": [
  {
   "cell_type": "code",
   "execution_count": 1,
   "metadata": {},
   "outputs": [],
   "source": [
    "import pandas as pd\n",
    "import yfinance as yf\n",
    "import numpy as np\n",
    "import joblib\n",
    "from sklearn.model_selection import train_test_split, RandomizedSearchCV\n",
    "from sklearn.metrics import accuracy_score, f1_score, recall_score, precision_score\n",
    "from sklearn.neural_network import MLPClassifier\n",
    "from xgboost import XGBClassifier\n",
    "import seaborn as sns; sns.set()\n",
    "import matplotlib.pyplot as plt\n",
    "\n",
    "import sys\n",
    "sys.path.append('..')\n",
    "from src.features.build_features import *"
   ]
  },
  {
   "cell_type": "code",
   "execution_count": 2,
   "metadata": {},
   "outputs": [],
   "source": [
    "def stock_score(y_pred):\n",
    "    \"\"\"\n",
    "    Returns the annual return of the predictions made by the algorithm,\n",
    "    and the position history of the algorithm (used for plots).\n",
    "    \"\"\"\n",
    "\n",
    "    ticker_df = yf.download('DJIA', start='2004-04-09', end='2020-06-26')\n",
    "    ticker_df['pct_change'] = 1 + ticker_df.Close.pct_change()\n",
    "    ticker_df = ticker_df[1:]\n",
    "    ticker_train = ticker_df[:int(len(ticker_df) * 0.8)]\n",
    "    ticker_test = ticker_df[int((len(ticker_df)) * 0.8):]\n",
    "    \n",
    "    if len(y_pred) == len(ticker_train):\n",
    "        stock = ticker_train\n",
    "    elif len(y_pred) == len(ticker_test):\n",
    "        stock = ticker_test\n",
    "    else:\n",
    "        raise IndexError(f'Not the length of test or train. Wrong series? {len(y_pred)}')\n",
    "\n",
    "    position = 100\n",
    "    history = []\n",
    "    \n",
    "    i = 0\n",
    "    while i < len(y_pred):\n",
    "        if y_pred[i] == 1:\n",
    "            position *= stock['pct_change'][i]\n",
    "        else:\n",
    "            position /= stock['pct_change'][i]\n",
    "\n",
    "        history.append(position)\n",
    "        i += 1\n",
    "\n",
    "    ann_return = ((1+((position - 100) / 100)) ** (1 / (len(y_pred)/365)) - 1) * 100\n",
    "\n",
    "    return ann_return, history"
   ]
  },
  {
   "cell_type": "code",
   "execution_count": 3,
   "metadata": {},
   "outputs": [],
   "source": [
    "%%capture\n",
    "\n",
    "djia = yf.download('DJIA', start='2004-01-01', end='2020-06-26')\n",
    "search = pd.read_csv('../data/raw/daily/stock_market.csv')"
   ]
  },
  {
   "cell_type": "code",
   "execution_count": 4,
   "metadata": {},
   "outputs": [],
   "source": [
    "df = pd.DataFrame()\n",
    "\n",
    "df['target'] = target_binary(djia.Close)[1:].astype(int)"
   ]
  },
  {
   "cell_type": "markdown",
   "metadata": {},
   "source": [
    "## Feature selection\n",
    "Many features are made, which are all lagged for 3-10 days (it starts at 3, because the data is available after three days, thus it prevents future leakage). Then the 50 most correlating (with the target) features are selected and are used for the machine learning algorithm.\n",
    "\n",
    "Underlying computation can be found in `src/features/build_features.py`."
   ]
  },
  {
   "cell_type": "code",
   "execution_count": 5,
   "metadata": {},
   "outputs": [],
   "source": [
    "# 3d, 1w, 2w, 1mo, 3mo.\n",
    "for length in [3, 7, 14, 30, 90]:\n",
    "    search[f'SMA_delta-{length}'] = research(search.Adjusted, length=length)\n",
    "    search[f'delta-{length}'] = delta(search.Adjusted, length=length)\n",
    "    search[f'pct_change-{length}'] = pct_change(search.Adjusted, length=length)\n",
    "    search[f'SMA-{length}'] = sma(search.Adjusted, length=length)\n",
    "    search[f'EMA-{length}'] = ema(search.Adjusted, length=length)\n",
    "\n",
    "# Bollinger bands.\n",
    "search['BBAND_U-20-2'] = search.Adjusted.rolling(20).mean() + 2*search.Adjusted.rolling(20).std()\n",
    "search['BBAND_L-20-2'] = search.Adjusted.rolling(20).mean() - 2*search.Adjusted.rolling(20).std()\n",
    "search['BBAND_U-20-1'] = search.Adjusted.rolling(20).mean() + search.Adjusted.rolling(20).std()\n",
    "search['BBAND_L-20-1'] = search.Adjusted.rolling(20).mean() - search.Adjusted.rolling(20).std()\n",
    "search['BBAND_U-10-1'] = search.Adjusted.rolling(10).mean() + search.Adjusted.rolling(10).std()\n",
    "search['BBAND_L-10-1'] = search.Adjusted.rolling(10).mean() - search.Adjusted.rolling(10).std()\n",
    "search['BBAND_U-10-2'] = search.Adjusted.rolling(10).mean() + 2*search.Adjusted.rolling(10).std()\n",
    "search['BBAND_L-10-2'] = search.Adjusted.rolling(10).mean() - 2*search.Adjusted.rolling(10).std()"
   ]
  },
  {
   "cell_type": "code",
   "execution_count": 6,
   "metadata": {},
   "outputs": [],
   "source": [
    "features = search.Date.to_frame()\n",
    "for lag in [3,4,5,6,7,8,9,10]:\n",
    "    shifted = search.drop('Date', axis=1).shift(lag)\n",
    "    shifted.columns = [f'{column}_shifted_by_{lag}' for column in shifted.columns]\n",
    "    features = pd.concat((features, shifted), axis=1)\n",
    "    \n",
    "features = features.dropna()"
   ]
  },
  {
   "cell_type": "code",
   "execution_count": 7,
   "metadata": {},
   "outputs": [],
   "source": [
    "djia['target'] = target_binary(djia.Close)\n",
    "djia = djia.drop(['Open', 'High', 'Low', 'Close', 'Adj Close', 'Volume'], axis=1)\n",
    "djia = djia.reset_index()"
   ]
  },
  {
   "cell_type": "code",
   "execution_count": 8,
   "metadata": {},
   "outputs": [],
   "source": [
    "features['Date'] = pd.to_datetime(features.Date)\n",
    "data = pd.merge(djia, features, on='Date')\n",
    "data['target'] = data.target.astype(int)\n",
    "data = data.drop('Date', axis=1)"
   ]
  },
  {
   "cell_type": "code",
   "execution_count": 9,
   "metadata": {},
   "outputs": [],
   "source": [
    "X = data.drop('target', axis=1)\n",
    "y = data.target\n",
    "\n",
    "X_train, X_test, y_train, y_test = train_test_split(X, y, test_size=0.2, shuffle=False)"
   ]
  },
  {
   "cell_type": "code",
   "execution_count": 10,
   "metadata": {},
   "outputs": [],
   "source": [
    "# Top 50 correlating features.\n",
    "correlations = np.abs(X_train.corrwith(y_train))\n",
    "features = list(correlations.sort_values(ascending=False)[0:50].index)\n",
    "X_train = X_train[features]\n",
    "X_test = X_test[features]"
   ]
  },
  {
   "cell_type": "code",
   "execution_count": 11,
   "metadata": {},
   "outputs": [
    {
     "name": "stdout",
     "output_type": "stream",
     "text": [
      "Top 7:\n",
      "BBAND_L-20-2_shifted_by_3\n",
      "BBAND_L-20-1_shifted_by_3\n",
      "BBAND_L-20-2_shifted_by_4\n",
      "BBAND_L-20-1_shifted_by_4\n",
      "BBAND_L-20-1_shifted_by_5\n",
      "BBAND_L-20-2_shifted_by_5\n",
      "delta-30_shifted_by_10\n"
     ]
    }
   ],
   "source": [
    "print('Top 7:')\n",
    "for feature in features[:7]:\n",
    "    print(feature)"
   ]
  },
  {
   "cell_type": "code",
   "execution_count": 12,
   "metadata": {},
   "outputs": [
    {
     "data": {
      "text/html": [
       "<div>\n",
       "<style scoped>\n",
       "    .dataframe tbody tr th:only-of-type {\n",
       "        vertical-align: middle;\n",
       "    }\n",
       "\n",
       "    .dataframe tbody tr th {\n",
       "        vertical-align: top;\n",
       "    }\n",
       "\n",
       "    .dataframe thead th {\n",
       "        text-align: right;\n",
       "    }\n",
       "</style>\n",
       "<table border=\"1\" class=\"dataframe\">\n",
       "  <thead>\n",
       "    <tr style=\"text-align: right;\">\n",
       "      <th></th>\n",
       "      <th>target</th>\n",
       "      <th>Adjusted_shifted_by_3</th>\n",
       "      <th>SMA_delta-3_shifted_by_3</th>\n",
       "      <th>delta-3_shifted_by_3</th>\n",
       "      <th>pct_change-3_shifted_by_3</th>\n",
       "      <th>SMA-3_shifted_by_3</th>\n",
       "      <th>EMA-3_shifted_by_3</th>\n",
       "      <th>SMA_delta-7_shifted_by_3</th>\n",
       "      <th>delta-7_shifted_by_3</th>\n",
       "      <th>pct_change-7_shifted_by_3</th>\n",
       "      <th>...</th>\n",
       "      <th>SMA-90_shifted_by_10</th>\n",
       "      <th>EMA-90_shifted_by_10</th>\n",
       "      <th>BBAND_U-20-2_shifted_by_10</th>\n",
       "      <th>BBAND_L-20-2_shifted_by_10</th>\n",
       "      <th>BBAND_U-20-1_shifted_by_10</th>\n",
       "      <th>BBAND_L-20-1_shifted_by_10</th>\n",
       "      <th>BBAND_U-10-1_shifted_by_10</th>\n",
       "      <th>BBAND_L-10-1_shifted_by_10</th>\n",
       "      <th>BBAND_U-10-2_shifted_by_10</th>\n",
       "      <th>BBAND_L-10-2_shifted_by_10</th>\n",
       "    </tr>\n",
       "  </thead>\n",
       "  <tbody>\n",
       "    <tr>\n",
       "      <th>0</th>\n",
       "      <td>1</td>\n",
       "      <td>0.07</td>\n",
       "      <td>-0.003333</td>\n",
       "      <td>-0.01</td>\n",
       "      <td>-0.125000</td>\n",
       "      <td>0.070000</td>\n",
       "      <td>0.069839</td>\n",
       "      <td>0.010000</td>\n",
       "      <td>0.02</td>\n",
       "      <td>0.40</td>\n",
       "      <td>...</td>\n",
       "      <td>0.057556</td>\n",
       "      <td>0.059878</td>\n",
       "      <td>0.091988</td>\n",
       "      <td>0.010012</td>\n",
       "      <td>0.071494</td>\n",
       "      <td>0.030506</td>\n",
       "      <td>0.075551</td>\n",
       "      <td>0.036449</td>\n",
       "      <td>0.095101</td>\n",
       "      <td>0.016899</td>\n",
       "    </tr>\n",
       "    <tr>\n",
       "      <th>1</th>\n",
       "      <td>0</td>\n",
       "      <td>0.03</td>\n",
       "      <td>-0.040000</td>\n",
       "      <td>-0.04</td>\n",
       "      <td>-0.571429</td>\n",
       "      <td>0.056667</td>\n",
       "      <td>0.049919</td>\n",
       "      <td>-0.032857</td>\n",
       "      <td>-0.01</td>\n",
       "      <td>-0.25</td>\n",
       "      <td>...</td>\n",
       "      <td>0.057778</td>\n",
       "      <td>0.059441</td>\n",
       "      <td>0.091644</td>\n",
       "      <td>0.011356</td>\n",
       "      <td>0.071572</td>\n",
       "      <td>0.031428</td>\n",
       "      <td>0.072465</td>\n",
       "      <td>0.033535</td>\n",
       "      <td>0.091930</td>\n",
       "      <td>0.014070</td>\n",
       "    </tr>\n",
       "    <tr>\n",
       "      <th>2</th>\n",
       "      <td>0</td>\n",
       "      <td>0.03</td>\n",
       "      <td>-0.026667</td>\n",
       "      <td>-0.04</td>\n",
       "      <td>-0.571429</td>\n",
       "      <td>0.043333</td>\n",
       "      <td>0.039960</td>\n",
       "      <td>-0.031429</td>\n",
       "      <td>-0.01</td>\n",
       "      <td>-0.25</td>\n",
       "      <td>...</td>\n",
       "      <td>0.057444</td>\n",
       "      <td>0.059014</td>\n",
       "      <td>0.091471</td>\n",
       "      <td>0.010529</td>\n",
       "      <td>0.071235</td>\n",
       "      <td>0.030765</td>\n",
       "      <td>0.071889</td>\n",
       "      <td>0.032111</td>\n",
       "      <td>0.091777</td>\n",
       "      <td>0.012223</td>\n",
       "    </tr>\n",
       "    <tr>\n",
       "      <th>3</th>\n",
       "      <td>1</td>\n",
       "      <td>0.00</td>\n",
       "      <td>-0.043333</td>\n",
       "      <td>-0.07</td>\n",
       "      <td>-1.000000</td>\n",
       "      <td>0.020000</td>\n",
       "      <td>0.019980</td>\n",
       "      <td>-0.060000</td>\n",
       "      <td>-0.07</td>\n",
       "      <td>-1.00</td>\n",
       "      <td>...</td>\n",
       "      <td>0.057444</td>\n",
       "      <td>0.059255</td>\n",
       "      <td>0.089689</td>\n",
       "      <td>0.011311</td>\n",
       "      <td>0.070095</td>\n",
       "      <td>0.030905</td>\n",
       "      <td>0.074656</td>\n",
       "      <td>0.033344</td>\n",
       "      <td>0.095312</td>\n",
       "      <td>0.012688</td>\n",
       "    </tr>\n",
       "    <tr>\n",
       "      <th>4</th>\n",
       "      <td>1</td>\n",
       "      <td>0.00</td>\n",
       "      <td>-0.020000</td>\n",
       "      <td>-0.03</td>\n",
       "      <td>-1.000000</td>\n",
       "      <td>0.010000</td>\n",
       "      <td>0.009990</td>\n",
       "      <td>-0.050000</td>\n",
       "      <td>-0.08</td>\n",
       "      <td>-1.00</td>\n",
       "      <td>...</td>\n",
       "      <td>0.057333</td>\n",
       "      <td>0.059711</td>\n",
       "      <td>0.093346</td>\n",
       "      <td>0.010654</td>\n",
       "      <td>0.072673</td>\n",
       "      <td>0.031327</td>\n",
       "      <td>0.076239</td>\n",
       "      <td>0.045761</td>\n",
       "      <td>0.091478</td>\n",
       "      <td>0.030522</td>\n",
       "    </tr>\n",
       "  </tbody>\n",
       "</table>\n",
       "<p>5 rows × 273 columns</p>\n",
       "</div>"
      ],
      "text/plain": [
       "   target  Adjusted_shifted_by_3  SMA_delta-3_shifted_by_3  \\\n",
       "0       1                   0.07                 -0.003333   \n",
       "1       0                   0.03                 -0.040000   \n",
       "2       0                   0.03                 -0.026667   \n",
       "3       1                   0.00                 -0.043333   \n",
       "4       1                   0.00                 -0.020000   \n",
       "\n",
       "   delta-3_shifted_by_3  pct_change-3_shifted_by_3  SMA-3_shifted_by_3  \\\n",
       "0                 -0.01                  -0.125000            0.070000   \n",
       "1                 -0.04                  -0.571429            0.056667   \n",
       "2                 -0.04                  -0.571429            0.043333   \n",
       "3                 -0.07                  -1.000000            0.020000   \n",
       "4                 -0.03                  -1.000000            0.010000   \n",
       "\n",
       "   EMA-3_shifted_by_3  SMA_delta-7_shifted_by_3  delta-7_shifted_by_3  \\\n",
       "0            0.069839                  0.010000                  0.02   \n",
       "1            0.049919                 -0.032857                 -0.01   \n",
       "2            0.039960                 -0.031429                 -0.01   \n",
       "3            0.019980                 -0.060000                 -0.07   \n",
       "4            0.009990                 -0.050000                 -0.08   \n",
       "\n",
       "   pct_change-7_shifted_by_3  ...  SMA-90_shifted_by_10  EMA-90_shifted_by_10  \\\n",
       "0                       0.40  ...              0.057556              0.059878   \n",
       "1                      -0.25  ...              0.057778              0.059441   \n",
       "2                      -0.25  ...              0.057444              0.059014   \n",
       "3                      -1.00  ...              0.057444              0.059255   \n",
       "4                      -1.00  ...              0.057333              0.059711   \n",
       "\n",
       "   BBAND_U-20-2_shifted_by_10  BBAND_L-20-2_shifted_by_10  \\\n",
       "0                    0.091988                    0.010012   \n",
       "1                    0.091644                    0.011356   \n",
       "2                    0.091471                    0.010529   \n",
       "3                    0.089689                    0.011311   \n",
       "4                    0.093346                    0.010654   \n",
       "\n",
       "   BBAND_U-20-1_shifted_by_10  BBAND_L-20-1_shifted_by_10  \\\n",
       "0                    0.071494                    0.030506   \n",
       "1                    0.071572                    0.031428   \n",
       "2                    0.071235                    0.030765   \n",
       "3                    0.070095                    0.030905   \n",
       "4                    0.072673                    0.031327   \n",
       "\n",
       "   BBAND_U-10-1_shifted_by_10  BBAND_L-10-1_shifted_by_10  \\\n",
       "0                    0.075551                    0.036449   \n",
       "1                    0.072465                    0.033535   \n",
       "2                    0.071889                    0.032111   \n",
       "3                    0.074656                    0.033344   \n",
       "4                    0.076239                    0.045761   \n",
       "\n",
       "   BBAND_U-10-2_shifted_by_10  BBAND_L-10-2_shifted_by_10  \n",
       "0                    0.095101                    0.016899  \n",
       "1                    0.091930                    0.014070  \n",
       "2                    0.091777                    0.012223  \n",
       "3                    0.095312                    0.012688  \n",
       "4                    0.091478                    0.030522  \n",
       "\n",
       "[5 rows x 273 columns]"
      ]
     },
     "execution_count": 12,
     "metadata": {},
     "output_type": "execute_result"
    }
   ],
   "source": [
    "data.head()"
   ]
  },
  {
   "cell_type": "markdown",
   "metadata": {},
   "source": [
    "## Machine Learning\n",
    "Comparing different machine learning frameworks and utilising various parameters."
   ]
  },
  {
   "cell_type": "markdown",
   "metadata": {},
   "source": [
    "### XGBoost"
   ]
  },
  {
   "cell_type": "code",
   "execution_count": 13,
   "metadata": {},
   "outputs": [],
   "source": [
    "parameters = {'learning_rate': [0.1, 0.01, 0.001],\n",
    "               'gamma': [0.01, 0.1, 0.3, 0.5, 1, 1.5, 2],\n",
    "               'max_depth': [2, 4, 7, 10],\n",
    "               'colsample_bytree': [0.3, 0.6, 0.8, 1.0],\n",
    "               'subsample': [0.2, 0.4, 0.5, 0.6, 0.7],\n",
    "               'reg_alpha': [0, 0.5, 1],\n",
    "               'reg_lambda': [1, 1.5, 2, 3, 4.5],\n",
    "               'min_child_weight': [1, 3, 5, 7],\n",
    "               'n_estimators': [100, 250, 500, 1000],\n",
    "}\n",
    "\n",
    "rf = RandomizedSearchCV(XGBClassifier(), param_distributions=parameters,\n",
    "                        cv=5, n_iter=20, scoring='recall', n_jobs=-1)\n",
    "\n",
    "rf.fit(X_train, y_train)\n",
    "y_test_preds = rf.predict(X_test)\n",
    "y_train_preds = rf.predict(X_train)"
   ]
  },
  {
   "cell_type": "code",
   "execution_count": 14,
   "metadata": {},
   "outputs": [
    {
     "name": "stdout",
     "output_type": "stream",
     "text": [
      "Accuracy: 0.5324357405140759\n",
      "F1: 0.6589285714285715\n",
      "Recall: 0.8092105263157895\n",
      "Precision: 0.5557228915662651\n"
     ]
    }
   ],
   "source": [
    "print('Accuracy:', accuracy_score(y_test, y_test_preds))\n",
    "print('F1:', f1_score(y_test, y_test_preds))\n",
    "print('Recall:', recall_score(y_test, y_test_preds))\n",
    "print('Precision:', precision_score(y_test, y_test_preds))"
   ]
  },
  {
   "cell_type": "code",
   "execution_count": 15,
   "metadata": {},
   "outputs": [
    {
     "name": "stdout",
     "output_type": "stream",
     "text": [
      "[*********************100%***********************]  1 of 1 completed\n",
      "Annual return: 23.962010058425864\n"
     ]
    },
    {
     "data": {
      "text/plain": [
       "<AxesSubplot:>"
      ]
     },
     "execution_count": 15,
     "metadata": {},
     "output_type": "execute_result"
    },
    {
     "data": {
      "image/png": "[encoded data removed]",
      "text/plain": [
       "<Figure size 432x288 with 1 Axes>"
      ]
     },
     "metadata": {},
     "output_type": "display_data"
    }
   ],
   "source": [
    "ann_return, history = stock_score(y_test_preds)\n",
    "print('Annual return:', ann_return)\n",
    "\n",
    "sns.lineplot(range(len(history)), history)"
   ]
  },
  {
   "cell_type": "code",
   "execution_count": 16,
   "metadata": {},
   "outputs": [],
   "source": [
    "# rf.best_estimator_.save_model('../models/GradientBoosting/0001.model')"
   ]
  },
  {
   "cell_type": "markdown",
   "metadata": {},
   "source": [
    "### MLPClassifier"
   ]
  },
  {
   "cell_type": "code",
   "execution_count": 17,
   "metadata": {},
   "outputs": [],
   "source": [
    "parameters = {\n",
    "    'solver': ['sgd'], \n",
    "    'max_iter': [1000],\n",
    "    'alpha': 10.0 ** -np.arange(1, 10),\n",
    "    'hidden_layer_sizes': np.arange(10, 15),\n",
    "    'random_state': [0],\n",
    "    'learning_rate_init': [0.15],\n",
    "    'learning_rate': ['constant'],\n",
    "    'shuffle': [False],\n",
    "    'momentum': np.random.uniform(low=0.8, high=1, size=(50,))\n",
    "}\n",
    "\n",
    "rf = RandomizedSearchCV(MLPClassifier(), param_distributions=parameters,\n",
    "                        cv=5, n_iter=20, scoring='recall', n_jobs=-1)\n",
    "\n",
    "rf.fit(X_train, y_train)\n",
    "y_test_preds = rf.predict(X_test)\n",
    "y_train_preds = rf.predict(X_train)"
   ]
  },
  {
   "cell_type": "code",
   "execution_count": 18,
   "metadata": {},
   "outputs": [
    {
     "name": "stdout",
     "output_type": "stream",
     "text": [
      "0.5091799265605875\n",
      "0.5030978934324658\n",
      "0.4451754385964912\n",
      "0.5783475783475783\n"
     ]
    }
   ],
   "source": [
    "print(accuracy_score(y_test, y_test_preds))\n",
    "print(f1_score(y_test, y_test_preds))\n",
    "print(recall_score(y_test, y_test_preds))\n",
    "print(precision_score(y_test, y_test_preds))"
   ]
  },
  {
   "cell_type": "code",
   "execution_count": 19,
   "metadata": {},
   "outputs": [
    {
     "name": "stdout",
     "output_type": "stream",
     "text": [
      "[*********************100%***********************]  1 of 1 completed\n",
      "Annual return: -8.561879791768035\n"
     ]
    },
    {
     "data": {
      "text/plain": [
       "<AxesSubplot:>"
      ]
     },
     "execution_count": 19,
     "metadata": {},
     "output_type": "execute_result"
    },
    {
     "data": {
      "image/png": "[encoded data removed]",
      "text/plain": [
       "<Figure size 432x288 with 1 Axes>"
      ]
     },
     "metadata": {},
     "output_type": "display_data"
    }
   ],
   "source": [
    "ann_return, history = stock_score(y_test_preds)\n",
    "print('Annual return:', ann_return)\n",
    "\n",
    "sns.lineplot(range(len(history)), history)"
   ]
  },
  {
   "cell_type": "markdown",
   "metadata": {},
   "source": [
    "### Experimentation"
   ]
  },
  {
   "cell_type": "code",
   "execution_count": 20,
   "metadata": {},
   "outputs": [],
   "source": [
    "clf = MLPClassifier(learning_rate_init=0.1,\n",
    "                    solver='sgd',\n",
    "                    momentum=0.9,\n",
    "                    max_iter=1000,\n",
    "                    shuffle=False, \n",
    "                    random_state=0\n",
    "                )\n",
    "\n",
    "clf.fit(X_train, y_train)\n",
    "y_test_preds = clf.predict(X_test)"
   ]
  },
  {
   "cell_type": "code",
   "execution_count": 21,
   "metadata": {},
   "outputs": [
    {
     "name": "stdout",
     "output_type": "stream",
     "text": [
      "Accuracy: 0.5556915544675642\n",
      "F1: 0.6952141057934508\n",
      "Recall: 0.9078947368421053\n",
      "Precision: 0.563265306122449\n"
     ]
    }
   ],
   "source": [
    "print('Accuracy:', accuracy_score(y_test, y_test_preds))\n",
    "print('F1:', f1_score(y_test, y_test_preds))\n",
    "print('Recall:', recall_score(y_test, y_test_preds))\n",
    "print('Precision:', precision_score(y_test, y_test_preds))"
   ]
  },
  {
   "cell_type": "code",
   "execution_count": 22,
   "metadata": {},
   "outputs": [
    {
     "name": "stdout",
     "output_type": "stream",
     "text": [
      "[*********************100%***********************]  1 of 1 completed\n",
      "Annual return: 91.30733081105915\n"
     ]
    },
    {
     "data": {
      "text/plain": [
       "<AxesSubplot:>"
      ]
     },
     "execution_count": 22,
     "metadata": {},
     "output_type": "execute_result"
    },
    {
     "data": {
      "image/png": "[encoded data removed]",
      "text/plain": [
       "<Figure size 432x288 with 1 Axes>"
      ]
     },
     "metadata": {},
     "output_type": "display_data"
    }
   ],
   "source": [
    "ann_return, history = stock_score(y_test_preds)\n",
    "print('Annual return:', ann_return)\n",
    "\n",
    "sns.lineplot(range(len(history)), history)"
   ]
  },
  {
   "cell_type": "code",
   "execution_count": 23,
   "metadata": {},
   "outputs": [],
   "source": [
    "# joblib.dump(clf, '../models/MLPClassifier/0006.sav')"
   ]
  }
 ],
 "metadata": {
  "kernelspec": {
   "display_name": "Python 3.8.3 64-bit",
   "language": "python",
   "name": "python38364bit748edce4d40a4eaeae1c5452b72d767c"
  },
  "language_info": {
   "codemirror_mode": {
    "name": "ipython",
    "version": 3
   },
   "file_extension": ".py",
   "mimetype": "text/x-python",
   "name": "python",
   "nbconvert_exporter": "python",
   "pygments_lexer": "ipython3",
   "version": "3.8.3"
  },
  "toc": {
   "base_numbering": 1,
   "nav_menu": {},
   "number_sections": true,
   "sideBar": true,
   "skip_h1_title": false,
   "title_cell": "Table of Contents",
   "title_sidebar": "Contents",
   "toc_cell": false,
   "toc_position": {},
   "toc_section_display": true,
   "toc_window_display": false
  },
  "varInspector": {
   "cols": {
    "lenName": 16,
    "lenType": 16,
    "lenVar": 40
   },
   "kernels_config": {
    "python": {
     "delete_cmd_postfix": "",
     "delete_cmd_prefix": "del ",
     "library": "var_list.py",
     "varRefreshCmd": "print(var_dic_list())"
    },
    "r": {
     "delete_cmd_postfix": ") ",
     "delete_cmd_prefix": "rm(",
     "library": "var_list.r",
     "varRefreshCmd": "cat(var_dic_list()) "
    }
   },
   "types_to_exclude": [
    "module",
    "function",
    "builtin_function_or_method",
    "instance",
    "_Feature"
   ],
   "window_display": false
  }
 },
 "nbformat": 4,
 "nbformat_minor": 4
}
