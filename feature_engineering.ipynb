{
 "cells": [
  {
   "cell_type": "markdown",
   "metadata": {},
   "source": [
    "### 1 Imports\n",
    "Pandas - Data manipulation.\n",
    "\n",
    "YFinance - Download historical stock price data."
   ]
  },
  {
   "cell_type": "code",
   "execution_count": 1,
   "metadata": {},
   "outputs": [],
   "source": [
    "import pandas as pd\n",
    "import yfinance as yf"
   ]
  },
  {
   "cell_type": "markdown",
   "metadata": {},
   "source": [
    "### 2 Constants\n",
    "`N` = amount of days to go in the past, for `Delta_N` and `Average_N`.\n",
    "\n",
    "`INTERVAL` = daily or weekly data.\n",
    "\n",
    "`OFFSET` = needed, because data is only available after 3 days.\n",
    "\n",
    "`THRESHOLD` = the threshold that `Delta_N` has to go over to warrant a _buy_.\n",
    "\n",
    "`KW_LIST` = a list of all _search terms_ of which the data has been collected."
   ]
  },
  {
   "cell_type": "code",
   "execution_count": 2,
   "metadata": {},
   "outputs": [],
   "source": [
    "N = 21\n",
    "THRESHOLD = 0\n",
    "INTERVAL = \"daily\"\n",
    "\n",
    "if INTERVAL == \"daily\":\n",
    "    OFFSET = 0\n",
    "elif INTERVAL == \"weekly\":\n",
    "    OFFSET = 0\n",
    "    N = int(N / 7)\n",
    "\n",
    "TARGET = \"binary\"\n",
    "TYPE = \"delta\"\n",
    "KW_LIST = [\"debt\", \"color\", \"stocks\", \"restaurant\", \"portfolio\", \"inflation\", \"housing\",\"dow_jones\", \"revenue\",\n",
    "           \"economics\", \"credit\", \"markets\", \"return\", \"unemployment\", \"money\", \"religion\", \"cancer\", \"growth\", \n",
    "           \"investment\", \"hedge\", \"marriage\", \"bonds\", \"derivatives\", \"headlines\", \"profit\", \"society\", \"leverage\", \n",
    "           \"loss\", \"cash\", \"office\", \"fine\", \"stock_market\", \"banking\", \"crisis\", \"happy\", \"car\", \"nasdaq\", \n",
    "           \"gains\", \"finance\", \"sell\", \"invest\", \"fed\", \"house\", \"metals\", \"travel\", \"returns\", \"gain\", \n",
    "           \"default\", \"present\", \"holiday\", \"water\", \"rich\", \"risk\", \"gold\", \"success\", \"oil\", \"war\", \"economy\", \n",
    "           \"chance\", \"lifestyle\", \"greed\", \"food\", \"movie\", \"nyse\", \"ore\", \"opportunity\", \"health\", \"earnings\", \n",
    "           \"arts\", \"culture\", \"bubble\", \"buy\", \"trader\", \"tourism\", \"politics\", \"energy\", \"consume\", \"consumption\",\n",
    "           \"freedom\", \"dividend\", \"world\", \"conflict\", \"kitchen\", \"forex\", \"home\", \"cash\", \"transaction\", \"garden\",\n",
    "           \"fond\", \"train\", \"labor\", \"fun\", \"environment\", \"ring\"]"
   ]
  },
  {
   "cell_type": "code",
   "execution_count": 3,
   "metadata": {},
   "outputs": [],
   "source": [
    "df = pd.read_csv(\"deployment/data/data.csv\")"
   ]
  },
  {
   "cell_type": "code",
   "execution_count": 4,
   "metadata": {},
   "outputs": [],
   "source": [
    "df.to_csv(\"deployment/data/data1.csv\", index=False)"
   ]
  },
  {
   "cell_type": "markdown",
   "metadata": {},
   "source": [
    "### 3 Import data"
   ]
  },
  {
   "cell_type": "code",
   "execution_count": 5,
   "metadata": {
    "tags": []
   },
   "outputs": [],
   "source": [
    "%%capture\n",
    "\n",
    "kw_df = pd.DataFrame()\n",
    "\n",
    "# Google Trends data.\n",
    "date = False\n",
    "for kw in KW_LIST:\n",
    "    \n",
    "    if not date:\n",
    "        kw_df[\"Date\"] = pd.read_csv(f\"data/{INTERVAL}/{kw}.csv\")[\"Date\"]\n",
    "        date = True\n",
    "        \n",
    "    kw_df[f\"{kw}\"] = pd.read_csv(f\"data/{INTERVAL}/{kw}.csv\")[\"Adjusted\"]\n",
    "\n",
    "# Historical stock price data.\n",
    "if INTERVAL == \"daily\":\n",
    "    ticker_df = yf.download(\"DJIA\", period=\"max\")\n",
    "elif INTERVAL == \"weekly\":\n",
    "    ticker_df = yf.download(\"DJIA\", period=\"max\", interval=\"1wk\")\n",
    "    kw_df[\"Date\"] = pd.to_datetime(kw_df[\"Date\"], format=\"%Y-%m-%d\")\n",
    "    kw_df[\"Date\"] += pd.DateOffset(1)\n",
    "\n",
    "# Manipulate stock price data.\n",
    "ticker_df[\"Change\"] = ticker_df[\"Close\"].pct_change()\n",
    "ticker_df = ticker_df.drop([\"Open\", \"High\", \"Low\", \"Adj Close\", \"Volume\", \"Close\"], axis = 1)\n",
    "ticker_df = ticker_df.reset_index()\n",
    "\n",
    "kw_df[\"Date\"] = pd.to_datetime(kw_df[\"Date\"], format=\"%Y-%m-%d\")"
   ]
  },
  {
   "cell_type": "markdown",
   "metadata": {},
   "source": [
    "### 4 Features"
   ]
  },
  {
   "cell_type": "markdown",
   "metadata": {},
   "source": [
    "#### 4.1 Time series"
   ]
  },
  {
   "cell_type": "code",
   "execution_count": 6,
   "metadata": {},
   "outputs": [],
   "source": [
    "df = pd.DataFrame()\n",
    "\n",
    "df[\"Date\"] = kw_df[\"Date\"]"
   ]
  },
  {
   "cell_type": "markdown",
   "metadata": {},
   "source": [
    "#### 4.2 Binary and binning."
   ]
  },
  {
   "cell_type": "code",
   "execution_count": 7,
   "metadata": {},
   "outputs": [],
   "source": [
    "if TARGET == \"binary\":\n",
    "    ticker_df[\"Target\"] = pd.cut(ticker_df[\"Change\"],\n",
    "                          bins=[-float(\"inf\"), 0, float(\"inf\")],\n",
    "                          labels=[0, 1])\n",
    "elif TARGET == \"bins\":\n",
    "    ticker_df[\"Target\"] = pd.cut(ticker_df[\"Change\"], \n",
    "                          bins=[-float(\"inf\"), -0.025, -0.02, -0.015, -0.01, -0.005, 0, 0.005, 0.01, 0.015, 0.02, 0.025, float(\"inf\")], \n",
    "                          labels=[-6, -5, -4, -3, -2, -1, 1, 2, 3, 4, 5, 6])\n",
    "\n",
    "ticker_df = ticker_df.drop(\"Change\", axis=1)"
   ]
  },
  {
   "cell_type": "markdown",
   "metadata": {},
   "source": [
    "#### 4.3 Delta, delta week, and rolling mean."
   ]
  },
  {
   "cell_type": "code",
   "execution_count": null,
   "metadata": {
    "scrolled": true
   },
   "outputs": [],
   "source": [
    "%%time\n",
    "\n",
    "if TYPE == \"delta\":\n",
    "    for kw in KW_LIST:\n",
    "        i = N\n",
    "        while i < len(df):\n",
    "            df.loc[i, f\"{kw}\"] = kw_df.loc[i, f\"{kw}\"] - kw_df.loc[i-N, f\"{kw}\"]\n",
    "            i += 1\n",
    "        \n",
    "        df[f\"{kw}\"] = df[f\"{kw}\"].shift(OFFSET)\n",
    "\n",
    "elif TYPE == \"dweek\":\n",
    "    for kw in KW_LIST:\n",
    "        i = N\n",
    "        while i < len(kw_df):\n",
    "            df.loc[i, f\"{kw}\"] = kw_df.loc[i-7:i, f\"{kw}\"].mean() - kw_df.loc[i-N-7:i-N, f\"{kw}\"].mean()\n",
    "            i += 1\n",
    "        \n",
    "        df[f\"{kw}\"] = df[f\"{kw}\"].shift(OFFSET)\n",
    "        \n",
    "elif TYPE == \"rolling\":\n",
    "    for kw in KW_LIST:\n",
    "        i = N\n",
    "        while i < len(kw_df):\n",
    "            df[f\"{kw}\"] = kw_df[f\"{kw}\"].rolling(N).mean()\n",
    "            i += 1\n",
    "        \n",
    "        df[f\"{kw}\"] = df[f\"{kw}\"].shift(OFFSET)\n",
    "\n",
    "\n",
    "df = df[N+OFFSET:]\n",
    "\n",
    "ticker_df.insert(1, \"lag_1\", ticker_df[\"Target\"].shift(1))\n",
    "\n",
    "df = df.merge(ticker_df, on=\"Date\")\n",
    "\n",
    "df = df.drop(\"Date\", axis=1)"
   ]
  },
  {
   "cell_type": "markdown",
   "metadata": {},
   "source": [
    "### 5 Convert to CSV\n",
    "This has to happen so that the CSV-file can be fed into the model."
   ]
  },
  {
   "cell_type": "code",
   "execution_count": null,
   "metadata": {},
   "outputs": [],
   "source": [
    "df.round(3).to_csv(f\"ml_models/{INTERVAL}_{TYPE}_{TARGET}.csv\")"
   ]
  }
 ],
 "metadata": {
  "kernelspec": {
   "display_name": "Python 3.8.3 64-bit",
   "language": "python",
   "name": "python38364bit748edce4d40a4eaeae1c5452b72d767c"
  },
  "language_info": {
   "codemirror_mode": {
    "name": "ipython",
    "version": 3
   },
   "file_extension": ".py",
   "mimetype": "text/x-python",
   "name": "python",
   "nbconvert_exporter": "python",
   "pygments_lexer": "ipython3",
   "version": "3.8.3"
  },
  "toc": {
   "base_numbering": 1,
   "nav_menu": {},
   "number_sections": true,
   "sideBar": true,
   "skip_h1_title": false,
   "title_cell": "Table of Contents",
   "title_sidebar": "Contents",
   "toc_cell": false,
   "toc_position": {},
   "toc_section_display": true,
   "toc_window_display": true
  },
  "varInspector": {
   "cols": {
    "lenName": 16,
    "lenType": 16,
    "lenVar": 40
   },
   "kernels_config": {
    "python": {
     "delete_cmd_postfix": "",
     "delete_cmd_prefix": "del ",
     "library": "var_list.py",
     "varRefreshCmd": "print(var_dic_list())"
    },
    "r": {
     "delete_cmd_postfix": ") ",
     "delete_cmd_prefix": "rm(",
     "library": "var_list.r",
     "varRefreshCmd": "cat(var_dic_list()) "
    }
   },
   "types_to_exclude": [
    "module",
    "function",
    "builtin_function_or_method",
    "instance",
    "_Feature"
   ],
   "window_display": false
  }
 },
 "nbformat": 4,
 "nbformat_minor": 4
}
